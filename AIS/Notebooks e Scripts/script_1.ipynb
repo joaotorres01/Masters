{
 "cells": [
  {
   "cell_type": "code",
   "execution_count": 1,
   "id": "8d31c012",
   "metadata": {},
   "outputs": [],
   "source": [
    "import pandas as pd\n",
    "\n",
    "gdp = pd.read_csv(\"DataSetTratado/Total_GDP.csv\", delimiter = ',')\n",
    "inflation = pd.read_csv('DataSetTratado/Inflation.csv',delimiter = ',')\n",
    "govexp = pd.read_csv(\"DataSetTratado/Govermnent_expenditure.csv\", delimiter = ',')\n",
    "literacy = pd.read_csv(\"DataSetTratado/Literacy Rate.csv\", delimiter = ',')\n",
    "\n",
    "gdp = gdp[gdp.index != 1960]"
   ]
  },
  {
   "cell_type": "code",
   "execution_count": 2,
   "id": "06b61f62",
   "metadata": {},
   "outputs": [
    {
     "data": {
      "text/plain": [
       "Index(['Country Code', 'year', 'gdp'], dtype='object')"
      ]
     },
     "execution_count": 2,
     "metadata": {},
     "output_type": "execute_result"
    }
   ],
   "source": [
    "gdp.columns"
   ]
  },
  {
   "cell_type": "code",
   "execution_count": 3,
   "id": "4caa7a7d",
   "metadata": {},
   "outputs": [
    {
     "data": {
      "text/plain": [
       "Country Code      0\n",
       "year              0\n",
       "govexp          780\n",
       "dtype: int64"
      ]
     },
     "execution_count": 3,
     "metadata": {},
     "output_type": "execute_result"
    }
   ],
   "source": [
    "govexp.isna().sum()"
   ]
  },
  {
   "cell_type": "code",
   "execution_count": 4,
   "id": "4daeb4c8",
   "metadata": {},
   "outputs": [],
   "source": [
    "govexp = govexp.dropna()"
   ]
  },
  {
   "cell_type": "code",
   "execution_count": 5,
   "id": "a17dff00",
   "metadata": {},
   "outputs": [
    {
     "data": {
      "text/plain": [
       "Country Code    0\n",
       "year            0\n",
       "govexp          0\n",
       "dtype: int64"
      ]
     },
     "execution_count": 5,
     "metadata": {},
     "output_type": "execute_result"
    }
   ],
   "source": [
    "govexp.isna().sum()"
   ]
  },
  {
   "cell_type": "code",
   "execution_count": 6,
   "id": "000b7393",
   "metadata": {},
   "outputs": [
    {
     "name": "stdout",
     "output_type": "stream",
     "text": [
      "Tempo:  0.15985536575317383 segundos\n"
     ]
    }
   ],
   "source": [
    "import time\n",
    "\n",
    "start_time = time.time()\n",
    "\n",
    "# realizar merge dos dataframes de PIB e Inflação usando como chave primária a coluna \"country_code\" e o year\n",
    "df_merge1 = pd.merge(gdp, inflation, on=['Country Code', 'year'])\n",
    "df_merge2 = pd.merge(df_merge1, govexp, on=['Country Code', 'year'])\n",
    "df_merge3 = pd.merge(df_merge2, literacy, on=['Country Code', 'year'])\n",
    "#tive de instalar o pyarrow para funcionar\n",
    "df_merge3.to_parquet('merged.parquet', index=False)\n",
    "\n",
    "end_time = time.time()\n",
    "print(\"Tempo: \", end_time - start_time, \"segundos\")"
   ]
  },
  {
   "cell_type": "code",
   "execution_count": 7,
   "id": "2099f69a",
   "metadata": {},
   "outputs": [],
   "source": [
    "df_merge3.to_csv('merged.csv', index=False)"
   ]
  },
  {
   "cell_type": "code",
   "execution_count": 8,
   "id": "36308b9e",
   "metadata": {},
   "outputs": [
    {
     "name": "stdout",
     "output_type": "stream",
     "text": [
      "46488\n"
     ]
    }
   ],
   "source": [
    "print(df_merge3.size)"
   ]
  },
  {
   "cell_type": "code",
   "execution_count": 9,
   "id": "4ef20292",
   "metadata": {},
   "outputs": [
    {
     "data": {
      "text/plain": [
       "Country Code     0\n",
       "year             0\n",
       "gdp              0\n",
       "inflation        0\n",
       "govexp           0\n",
       "literacy_rate    0\n",
       "dtype: int64"
      ]
     },
     "execution_count": 9,
     "metadata": {},
     "output_type": "execute_result"
    }
   ],
   "source": [
    "df_merge3.isna().sum()"
   ]
  }
 ],
 "metadata": {
  "kernelspec": {
   "display_name": "Python 3 (ipykernel)",
   "language": "python",
   "name": "python3"
  },
  "language_info": {
   "codemirror_mode": {
    "name": "ipython",
    "version": 3
   },
   "file_extension": ".py",
   "mimetype": "text/x-python",
   "name": "python",
   "nbconvert_exporter": "python",
   "pygments_lexer": "ipython3",
   "version": "3.11.2"
  }
 },
 "nbformat": 4,
 "nbformat_minor": 5
}
